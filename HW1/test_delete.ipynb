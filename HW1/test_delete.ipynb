{
 "cells": [
  {
   "cell_type": "code",
   "execution_count": 1,
   "metadata": {
    "ExecuteTime": {
     "end_time": "2024-02-01T19:32:37.285248900Z",
     "start_time": "2024-02-01T19:32:36.740558100Z"
    }
   },
   "outputs": [
    {
     "name": "stdout",
     "output_type": "stream",
     "text": [
      "[[8.55895788 8.78007232 7.12997406]\n",
      " [6.76311497 9.54489546 8.19606008]\n",
      " [7.81981341 8.48873106 7.85315263]\n",
      " [6.7723386  7.07485198 5.66189524]\n",
      " [7.67101595 9.29484377 8.54973714]]\n"
     ]
    }
   ],
   "source": [
    "import numpy as np\n",
    "import matplotlib.pyplot as plt\n",
    "\n",
    "# 1. Create a 2D array of shape 5x3 to contain random decimal numbers between 5 and 10.\n",
    "arr = np.random.uniform(5, 10, size=(5, 3))\n",
    "print(arr)"
   ]
  },
  {
   "cell_type": "code",
   "outputs": [],
   "source": [],
   "metadata": {
    "collapsed": false
   }
  }
 ],
 "metadata": {
  "kernelspec": {
   "display_name": "Python 3",
   "language": "python",
   "name": "python3"
  },
  "language_info": {
   "name": "python",
   "version": "3.11.7"
  }
 },
 "nbformat": 4,
 "nbformat_minor": 2
}
