{
 "cells": [
  {
   "cell_type": "code",
   "execution_count": 6,
   "id": "93f249ca08f03088",
   "metadata": {
    "ExecuteTime": {
     "end_time": "2024-02-01T20:16:07.962066500Z",
     "start_time": "2024-02-01T20:16:07.958398600Z"
    }
   },
   "outputs": [],
   "source": [
    "import numpy as np \n",
    "import matplotlib.pyplot as plt\n",
    "import netCDF4 as nc"
   ]
  },
  {
   "cell_type": "code",
   "execution_count": 7,
   "id": "initial_id",
   "metadata": {
    "ExecuteTime": {
     "end_time": "2024-02-01T20:16:18.063232Z",
     "start_time": "2024-02-01T20:16:17.771666400Z"
    }
   },
   "outputs": [
    {
     "ename": "NameError",
     "evalue": "name 'xr' is not defined",
     "output_type": "error",
     "traceback": [
      "\u001B[1;31m---------------------------------------------------------------------------\u001B[0m",
      "\u001B[1;31mNameError\u001B[0m                                 Traceback (most recent call last)",
      "Cell \u001B[1;32mIn[7], line 3\u001B[0m\n\u001B[0;32m      1\u001B[0m \u001B[38;5;66;03m#read nc file to a numpy array\u001B[39;00m\n\u001B[0;32m      2\u001B[0m \u001B[38;5;66;03m#read nc fil# \u001B[39;00m\n\u001B[1;32m----> 3\u001B[0m ds \u001B[38;5;241m=\u001B[39m \u001B[43mxr\u001B[49m\u001B[38;5;241m.\u001B[39mopen_dataset(\u001B[38;5;124m'\u001B[39m\u001B[38;5;124mC:\u001B[39m\u001B[38;5;124m\\\u001B[39m\u001B[38;5;124mPhd\u001B[39m\u001B[38;5;124m\\\u001B[39m\u001B[38;5;124mObjective Analysis\u001B[39m\u001B[38;5;124m\\\u001B[39m\u001B[38;5;124mHomeworks\u001B[39m\u001B[38;5;124m\\\u001B[39m\u001B[38;5;124mHW1\u001B[39m\u001B[38;5;124m\\\u001B[39m\u001B[38;5;124mData\u001B[39m\u001B[38;5;124m\\\u001B[39m\u001B[38;5;124mTS_timeseries_cesmle_1850.nc\u001B[39m\u001B[38;5;124m'\u001B[39m)\n\u001B[0;32m      4\u001B[0m \u001B[38;5;66;03m#convert to numpy array\u001B[39;00m\n\u001B[0;32m      5\u001B[0m ds_ \u001B[38;5;241m=\u001B[39m ds\u001B[38;5;241m.\u001B[39mto_array()\n",
      "\u001B[1;31mNameError\u001B[0m: name 'xr' is not defined"
     ]
    }
   ],
   "source": [
    "#read nc file to a numpy array\n",
    "#read nc fil# \n",
    "ds = xr.open_dataset('C:\\Phd\\Objective Analysis\\Homeworks\\HW1\\Data\\TS_timeseries_cesmle_1850.nc')\n",
    "#convert to numpy array\n",
    "ds_ = ds.to_array()\n",
    "type(ds)"
   ]
  },
  {
   "cell_type": "code",
   "execution_count": 13,
   "id": "950151786a7651d0",
   "metadata": {
    "ExecuteTime": {
     "end_time": "2024-02-01T21:38:56.936464900Z",
     "start_time": "2024-02-01T21:38:56.929388800Z"
    }
   },
   "outputs": [
    {
     "data": {
      "text/plain": "netCDF4._netCDF4.Dataset"
     },
     "execution_count": 13,
     "metadata": {},
     "output_type": "execute_result"
    }
   ],
   "source": [
    "nc_file_path = 'C:\\Phd\\Objective Analysis\\Homeworks\\HW1\\Data\\TS_timeseries_cesmle_1850.nc'\n",
    "TS_cesmle_1850_nc = nc.Dataset(nc_file_path, 'r')\n",
    "nc_file_path = 'C:\\Phd\\Objective Analysis\\Homeworks\\HW1\\Data\\TS_timeseries_cesmle_1920_2100.nc'\n",
    "TS_cesmle_1920_2100_nc = nc.Dataset(nc_file_path, 'r')\n",
    "type(TS_cesmle_1850_nc)"
   ]
  },
  {
   "cell_type": "code",
   "execution_count": 10,
   "id": "3baceafa51f689a",
   "metadata": {
    "ExecuteTime": {
     "end_time": "2024-02-01T20:17:34.563100900Z",
     "start_time": "2024-02-01T20:17:34.553152800Z"
    }
   },
   "outputs": [
    {
     "name": "stdout",
     "output_type": "stream",
     "text": [
      "['case', 'creation_date', 'source']\n",
      "--- Global Attributes ---\n",
      "case: b.e11.B1850C5CN.f09_g16.005\n",
      "creation_date: Tue Aug  1 14:00:02 MDT 2017\n",
      "source: CESMLE_timeseries.ncl\n",
      "\n",
      "--- Dimensions ---\n",
      "case: 0\n",
      "year: 1801\n",
      "<class 'netCDF4._netCDF4.Dimension'> (unlimited): name = 'case', size = 0\n",
      "<class 'netCDF4._netCDF4.Dimension'>: name = 'year', size = 1801\n",
      "['case', 'creation_date', 'source']\n",
      "--- Global Attributes ---\n",
      "case: b.e11.B1850C5CN.f09_g16.005\n",
      "creation_date: Tue Aug  1 14:00:02 MDT 2017\n",
      "source: CESMLE_timeseries.ncl\n",
      "\n",
      "--- Dimensions ---\n",
      "case: 0\n",
      "year: 1801\n",
      "<class 'netCDF4._netCDF4.Dimension'> (unlimited): name = 'case', size = 0\n",
      "<class 'netCDF4._netCDF4.Dimension'>: name = 'year', size = 1801\n"
     ]
    }
   ],
   "source": [
    "print(TS_cesmle_1850_nc.ncattrs())\n",
    "print(\"--- Global Attributes ---\")\n",
    "for attr in TS_cesmle_1850_nc.ncattrs():\n",
    "    print(f\"{attr}: {TS_cesmle_1850_nc.getncattr(attr)}\")\n",
    "\n",
    "print(\"\\n--- Dimensions ---\")\n",
    "for dim in TS_cesmle_1850_nc.dimensions:\n",
    "    print(f\"{dim}: {TS_cesmle_1850_nc.dimensions[dim].size}\")\n",
    "\n",
    "for dim in TS_cesmle_1850_nc.dimensions.values():\n",
    "    print(dim)\n",
    "    \n",
    "# for 1920_2100\n",
    "print(TS_cesmle_1920_2100_nc.ncattrs())\n",
    "print(\"--- Global Attributes ---\")\n",
    "for attr in TS_cesmle_1920_2100_nc.ncattrs():\n",
    "    print(f\"{attr}: {TS_cesmle_1920_2100_nc.getncattr(attr)}\")\n",
    "    \n",
    "print(\"\\n--- Dimensions ---\")\n",
    "for dim in TS_cesmle_1920_2100_nc.dimensions:\n",
    "    print(f\"{dim}: {TS_cesmle_1920_2100_nc.dimensions[dim].size}\")\n",
    "\n",
    "for dim in TS_cesmle_1920_2100_nc.dimensions.values():\n",
    "    print(dim)\n",
    "    "
   ]
  },
  {
   "cell_type": "code",
   "outputs": [
    {
     "data": {
      "text/plain": "dict_keys(['gts_ann_allcesmle', 'member', 'year', 'ats_ann_allcesmle'])"
     },
     "execution_count": 27,
     "metadata": {},
     "output_type": "execute_result"
    }
   ],
   "source": [
    "TS_cesmle_1920_2100_nc.variables.keys()"
   ],
   "metadata": {
    "collapsed": false,
    "ExecuteTime": {
     "end_time": "2024-02-01T21:53:33.261798100Z",
     "start_time": "2024-02-01T21:53:33.253723Z"
    }
   },
   "id": "a06474c088e49db4",
   "execution_count": 27
  },
  {
   "cell_type": "code",
   "outputs": [
    {
     "data": {
      "text/plain": "dict_keys(['gts_annual', 'year', 'ats_annual'])"
     },
     "execution_count": 14,
     "metadata": {},
     "output_type": "execute_result"
    }
   ],
   "source": [
    "TS_cesmle_1850_nc.variables.keys()"
   ],
   "metadata": {
    "collapsed": false,
    "ExecuteTime": {
     "end_time": "2024-02-01T21:40:24.471787100Z",
     "start_time": "2024-02-01T21:40:24.465447300Z"
    }
   },
   "id": "171d3f96b82c56ab",
   "execution_count": 14
  },
  {
   "cell_type": "code",
   "outputs": [
    {
     "data": {
      "text/plain": "1801"
     },
     "execution_count": 39,
     "metadata": {},
     "output_type": "execute_result"
    }
   ],
   "source": [
    "# transform the nc file to a numpy array\n",
    "# for 1850\n",
    "gts_annual_1850 = TS_cesmle_1850_nc.variables['gts_annual']\n",
    "gts_annual_1850_np = gts_annual_1850[:]\n",
    "np.size(gts_annual_1850_np)\n",
    "\n"
   ],
   "metadata": {
    "collapsed": false,
    "ExecuteTime": {
     "end_time": "2024-02-01T22:12:03.706653700Z",
     "start_time": "2024-02-01T22:12:03.701049700Z"
    }
   },
   "id": "4a96016384c52c0c",
   "execution_count": 39
  },
  {
   "cell_type": "code",
   "outputs": [
    {
     "data": {
      "text/plain": "181"
     },
     "execution_count": 45,
     "metadata": {},
     "output_type": "execute_result"
    }
   ],
   "source": [
    "# for 1920_2100\n",
    "gts_annual_1920_2100 = TS_cesmle_1920_2100_nc.variables['gts_ann_allcesmle']\n",
    "gts_annual_1920_2100_np = gts_annual_1920_2100[0]\n",
    "np.size(gts_annual_1920_2100_np)"
   ],
   "metadata": {
    "collapsed": false,
    "ExecuteTime": {
     "end_time": "2024-02-01T22:14:30.165947Z",
     "start_time": "2024-02-01T22:14:30.155893800Z"
    }
   },
   "id": "f6ac56ebe6e2ef26",
   "execution_count": 45
  },
  {
   "cell_type": "code",
   "outputs": [
    {
     "name": "stdout",
     "output_type": "stream",
     "text": [
      "1920.0 2100.0\n"
     ]
    }
   ],
   "source": [
    "x2 = np.linspace(1920,2100,181)\n",
    "print(x2[0],x2[-1])"
   ],
   "metadata": {
    "collapsed": false,
    "ExecuteTime": {
     "end_time": "2024-02-01T22:19:32.141633400Z",
     "start_time": "2024-02-01T22:19:32.137666300Z"
    }
   },
   "id": "22441a0ac48b598b",
   "execution_count": 57
  },
  {
   "cell_type": "code",
   "outputs": [
    {
     "name": "stdout",
     "output_type": "stream",
     "text": [
      "49.0 1850.0\n"
     ]
    }
   ],
   "source": [
    "x1 = np.linspace(1850-1801,1850,1801)\n",
    "print(x1[0],x1[-1])"
   ],
   "metadata": {
    "collapsed": false,
    "ExecuteTime": {
     "end_time": "2024-02-01T22:21:57.667057800Z",
     "start_time": "2024-02-01T22:21:57.659690900Z"
    }
   },
   "id": "bca4d79ea37d2111",
   "execution_count": 58
  },
  {
   "cell_type": "code",
   "execution_count": 60,
   "id": "2b6d27a89d16ce9",
   "metadata": {
    "ExecuteTime": {
     "end_time": "2024-02-01T22:22:57.790784200Z",
     "start_time": "2024-02-01T22:22:57.708355800Z"
    }
   },
   "outputs": [
    {
     "data": {
      "text/plain": "<Figure size 640x480 with 1 Axes>",
      "image/png": "[encoded data removed]"
     },
     "metadata": {},
     "output_type": "display_data"
    }
   ],
   "source": [
    "#plot gts_annual\n",
    "plt.plot(x1, gts_annual_1850_np)\n",
    "plt.plot(x2, gts_annual_1920_2100_np)\n",
    "plt.show()"
   ]
  },
  {
   "cell_type": "code",
   "outputs": [],
   "source": [
    "# standardizeing the gts_annual\n",
    "gts_annual_1850_standard = ((gts_annual_1850_np - np.mean(gts_annual_1850_np)) / np.std(gts_annual_1850_np))\n"
   ],
   "metadata": {
    "collapsed": false,
    "ExecuteTime": {
     "end_time": "2024-02-01T21:55:50.550124300Z",
     "start_time": "2024-02-01T21:55:50.546471700Z"
    }
   },
   "id": "ae44fb42f0e3f245",
   "execution_count": 34
  },
  {
   "cell_type": "code",
   "execution_count": 25,
   "id": "627bab6df23e07c5",
   "metadata": {
    "ExecuteTime": {
     "end_time": "2024-02-01T21:51:03.316795700Z",
     "start_time": "2024-02-01T21:51:03.206952700Z"
    }
   },
   "outputs": [
    {
     "data": {
      "text/plain": "(array([0.04023515, 0.12875249, 0.3703272 , 1.46455959, 2.84864888,\n        3.79015147, 3.16248308, 1.87578779, 0.66790355, 0.14484655]),\n array([286.7170105 , 286.78601074, 286.85501099, 286.92398071,\n        286.99298096, 287.0619812 , 287.13098145, 287.19998169,\n        287.26895142, 287.33795166, 287.4069519 ]),\n <BarContainer object of 10 artists>)"
     },
     "execution_count": 25,
     "metadata": {},
     "output_type": "execute_result"
    },
    {
     "data": {
      "text/plain": "<Figure size 640x480 with 1 Axes>",
      "image/png": "[encoded data removed]"
     },
     "metadata": {},
     "output_type": "display_data"
    }
   ],
   "source": [
    "# histogram of gts_annual\n",
    "plt.hist(gts_annual_1850_np, density=True)"
   ]
  },
  {
   "cell_type": "code",
   "execution_count": 36,
   "id": "5511a8d3d237ed96",
   "metadata": {
    "ExecuteTime": {
     "end_time": "2024-02-01T21:56:30.665730Z",
     "start_time": "2024-02-01T21:56:30.546394300Z"
    }
   },
   "outputs": [
    {
     "data": {
      "text/plain": "[<matplotlib.lines.Line2D at 0x2ab8e2dbc50>]"
     },
     "execution_count": 36,
     "metadata": {},
     "output_type": "execute_result"
    },
    {
     "data": {
      "text/plain": "<Figure size 640x480 with 1 Axes>",
      "image/png": "[encoded data removed]"
     },
     "metadata": {},
     "output_type": "display_data"
    }
   ],
   "source": [
    "plt.hist(gts_annual_1850_standard, density=True)\n",
    "#plot a standard normal distribution\n",
    "x = np.linspace(-4, 4, 100)\n",
    "y = (1/np.sqrt(2*np.pi)) * np.exp(-0.5*x**2)\n",
    "plt.plot(x, y, 'r')"
   ]
  },
  {
   "cell_type": "code",
   "outputs": [],
   "source": [
    "d"
   ],
   "metadata": {
    "collapsed": false
   },
   "id": "8667f12b5aa17f04"
  }
 ],
 "metadata": {
  "kernelspec": {
   "display_name": "Python 3 (ipykernel)",
   "language": "python",
   "name": "python3"
  },
  "language_info": {
   "codemirror_mode": {
    "name": "ipython",
    "version": 3
   },
   "file_extension": ".py",
   "mimetype": "text/x-python",
   "name": "python",
   "nbconvert_exporter": "python",
   "pygments_lexer": "ipython3",
   "version": "3.11.5"
  }
 },
 "nbformat": 4,
 "nbformat_minor": 5
}
