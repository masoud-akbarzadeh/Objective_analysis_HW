{
 "cells": [
  {
   "cell_type": "markdown",
   "id": "b34bcc3507df40f8",
   "metadata": {},
   "source": [
    "# Importing Libraries"
   ]
  },
  {
   "cell_type": "code",
   "execution_count": 145,
   "id": "a91a56021ebaa898",
   "metadata": {
    "is_executing": true
   },
   "outputs": [],
   "source": [
    "import numpy as np\n",
    "import matplotlib.pyplot as plt\n",
    "import matplotlib as mpl\n",
    "import scipy.stats as stats\n",
    "import pandas as pd\n",
    "\n",
    "mpl.rcParams['figure.dpi'] = 100"
   ]
  },
  {
   "cell_type": "markdown",
   "id": "10ad3e67810d459a",
   "metadata": {},
   "source": []
  },
  {
   "cell_type": "code",
   "execution_count": 147,
   "id": "a7feb0cf8433108c",
   "metadata": {
    "is_executing": true
   },
   "outputs": [],
   "source": [
    "series_length = 5000\n",
    "np.random.seed(0)\n"
   ]
  },
  {
   "cell_type": "code",
   "execution_count": null,
   "id": "68862a74e44afb89",
   "metadata": {
    "is_executing": true
   },
   "outputs": [],
   "source": [
    "# Generate a time series with red noise\n",
    "auto_vec = np.array([0 , .25, .5, .92])\n",
    "T = np.empty((len(auto_vec), series_length))\n",
    "plt.figure(figsize=(10, 8))\n",
    "for ia, a in enumerate(auto_vec):\n",
    "    # Create time series with red noise itteratively\n",
    "    b = np.sqrt(1. - a**2) # Calculate the value of b for the given a\n",
    "    print(a, b)\n",
    "    x1 = [] # Create an empty list to store the time series\n",
    "    x1.append(np.random.normal(.0, 1., size=1,)) # Generate the first value of the time series\n",
    "    for it in np.arange(0, series_length-1, 1): # Generate the time series\n",
    "        x1.append(a*x1[it] + b*np.random.normal(size=1))\n",
    "    x1 = np.asarray(x1)[:,0] # Convert the list to a numpy array and remove the second dimension of the array\n",
    "    T[ia, :] = x1 # Store the time series in the matrix T\n",
    "\n"
   ]
  },
  {
   "cell_type": "code",
   "execution_count": null,
   "id": "cccdbf7c02bda635",
   "metadata": {
    "is_executing": true
   },
   "outputs": [],
   "source": [
    "# Plot the time series\n",
    "fig, ax = plt.subplots(np.size(auto_vec), 1, figsize=(10, 6), sharex=True)\n",
    "for ia, a in enumerate(auto_vec):\n",
    "    ax[ia].plot(T[ia, :])\n",
    "    ax[ia].set_title('a = ' + str(a))\n",
    "plt.show()"
   ]
  },
  {
   "cell_type": "code",
   "execution_count": null,
   "id": "6e2eb32a14446e6c",
   "metadata": {
    "is_executing": true
   },
   "outputs": [],
   "source": [
    "sample_length = 100\n",
    "sampling_iter = 1000"
   ]
  },
  {
   "cell_type": "code",
   "execution_count": null,
   "id": "4156b257a8bbd952",
   "metadata": {
    "is_executing": true
   },
   "outputs": [],
   "source": [
    "# function to do resampling of the time series\n",
    "def resample_t_series(time_series, sample_length_var, sampling_iter_var): \n",
    "    # time_series is the time series to be resampled, sample_length_var is the length of the sample to be drawn, sampling_iter_var is the number of times samples to be drawn\n",
    "    t_series_mean = np.empty(sampling_iter_var)\n",
    "    t_series_std = np.empty(sampling_iter_var)\n",
    "    for i in np.arange(sampling_iter_var):\n",
    "        ir = stats.randint.rvs(0, len(time_series) - 1, size = sample_length_var)\n",
    "        t_series_mean[i] = np.nanmean(time_series[ir])\n",
    "        t_series_std[i] = np.nanstd(time_series[ir])\n",
    "    return t_series_mean, t_series_std"
   ]
  },
  {
   "cell_type": "code",
   "execution_count": null,
   "id": "e3b438c0f8522ebe",
   "metadata": {
    "is_executing": true
   },
   "outputs": [],
   "source": [
    "# Resample the time series using the function\n",
    "# T1_mean, T1_std = resample_t_series(T[0, :], sample_length, sampling_iter)\n",
    "T_mean = np.empty((len(auto_vec), sampling_iter))\n",
    "T_std = np.empty((len(auto_vec), sampling_iter))\n",
    "for j in np.arange(len(auto_vec)):\n",
    "    T_mean[j, :], T_std[j, :] = resample_t_series(T[j, :], sample_length, sampling_iter)"
   ]
  },
  {
   "cell_type": "code",
   "execution_count": null,
   "id": "f5e5c7b227f48462",
   "metadata": {
    "is_executing": true
   },
   "outputs": [],
   "source": [
    "np.shape(T_mean)\n",
    "# np.shape(T1_mean)\n"
   ]
  },
  {
   "cell_type": "code",
   "execution_count": null,
   "id": "42b9af02101a6871",
   "metadata": {
    "is_executing": true
   },
   "outputs": [],
   "source": [
    "# draw a sample of size of consecutive values from the time series\n",
    "T_mean_2 = np.empty((len(auto_vec), sampling_iter))\n",
    "for i in np.arange(np.size(auto_vec)):\n",
    "    for j, val in  enumerate(T_mean[i, :]):\n",
    "        ir = stats.randint.rvs(0, len(T[i,:]-1), size = sample_length)\n",
    "        T_mean_2[i,j] = np.nanmean(T[i,ir])"
   ]
  },
  {
   "cell_type": "code",
   "execution_count": null,
   "id": "3cef7ec4c5adc502",
   "metadata": {
    "is_executing": true
   },
   "outputs": [],
   "source": [
    "# Plot the histogram of the sample mean and standard deviation for each value of a\n",
    "\n",
    "for ia, a in enumerate(auto_vec):\n",
    "    fig, ax = plt.subplots(2, 1, figsize=(10, 6))\n",
    "    ax[0].hist(T_mean[ia, :], bins = 20, label=f'a = {a}', alpha=0.5)\n",
    "    ax[0].set_title('Histogram of the sample mean')\n",
    "    ax[1].hist(T_std[ia, :], bins = 20, label=f'a = {a}', alpha=0.5)\n",
    "    ax[1].set_title('Histogram of the sample standard deviation')\n",
    "    plt.show()\n"
   ]
  },
  {
   "cell_type": "code",
   "execution_count": null,
   "id": "55a8f1bd507fc8dd",
   "metadata": {
    "is_executing": true
   },
   "outputs": [],
   "source": [
    "# # Plot the histogram of the sample mean and standard deviation\n",
    "# fig, ax = plt.subplots(2, 1, figsize=(10, 6), sharex=True)\n",
    "# for i in np.arange(np.size(auto_vec)):\n",
    "#     sns.histplot(T_mean[i, :], kde=True, ax=ax[0], label='a = ' + str(auto_vec[i]))\n",
    "#     sns.histplot(T_std, kde=True, ax=ax[1], label='a = ' + str(auto_vec[i]))\n",
    "# ax[0].set_title('Histogram of the sample mean')\n",
    "# ax[1].set_title('Histogram of the sample standard deviation')\n",
    "# plt.show()"
   ]
  },
  {
   "cell_type": "code",
   "execution_count": null,
   "id": "3918db29d78cb568",
   "metadata": {
    "is_executing": true
   },
   "outputs": [],
   "source": [
    "# # Plot the histogram of the sample mean and standard deviation\n",
    "# fig, ax = plt.subplots(2, 1, figsize=(10, 6), sharex=True)\n",
    "# for i in np.arange(np.size(auto_vec)):\n",
    "#     sns.histplot(T_mean_2[i, :], kde=True, ax=ax[0], label='a = ' + str(auto_vec[i]))\n",
    "#     sns.histplot((T_std_2[i, :], kde=True, ax=ax[1], label='a = ' + str(auto_vec[i]))\n",
    "# ax[0].set_title('Histogram of the sample mean')\n",
    "# ax[1].set_title('Histogram of the sample standard deviation')\n",
    "# plt.show()"
   ]
  },
  {
   "cell_type": "code",
   "execution_count": null,
   "id": "c01ac86e17c10f37",
   "metadata": {
    "is_executing": true
   },
   "outputs": [],
   "source": []
  },
  {
   "cell_type": "code",
   "execution_count": null,
   "id": "2ed10cd23f250882",
   "metadata": {
    "is_executing": true
   },
   "outputs": [],
   "source": []
  }
 ],
 "metadata": {
  "kernelspec": {
   "display_name": "Python 3 (ipykernel)",
   "language": "python",
   "name": "python3"
  },
  "language_info": {
   "codemirror_mode": {
    "name": "ipython",
    "version": 3
   },
   "file_extension": ".py",
   "mimetype": "text/x-python",
   "name": "python",
   "nbconvert_exporter": "python",
   "pygments_lexer": "ipython3",
   "version": "3.11.5"
  }
 },
 "nbformat": 4,
 "nbformat_minor": 5
}
