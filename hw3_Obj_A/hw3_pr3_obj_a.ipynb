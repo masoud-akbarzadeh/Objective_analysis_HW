{
 "cells": [
  {
   "cell_type": "markdown",
   "source": [
    "Starting code for Problem 3:"
   ],
   "metadata": {
    "collapsed": false
   },
   "id": "9db76b9d366922a9"
  },
  {
   "cell_type": "code",
   "outputs": [],
   "source": [
    "import numpy as np\n",
    "import matplotlib.pyplot as plt\n",
    "from sklearn import datasets, linear_model, preprocessing\n",
    "from sklearn.model_selection import train_test_split\n",
    "from sklearn.metrics import mean_squared_error\n",
    "import scipy.io as io\n",
    "import copy as copy\n",
    "import csv\n",
    "import datetime\n",
    "import xarray as xr\n",
    "import matplotlib as mpl\n",
    "import cartopy as ct"
   ],
   "metadata": {
    "collapsed": false,
    "is_executing": true,
    "ExecuteTime": {
     "start_time": "2024-03-01T00:02:36.078460Z"
    }
   },
   "id": "a977ce680cffcbc3",
   "execution_count": null
  },
  {
   "cell_type": "markdown",
   "source": [
    "Code for Problem 3:"
   ],
   "metadata": {
    "collapsed": false
   },
   "id": "dac13429a18b09ce"
  },
  {
   "cell_type": "code",
   "execution_count": null,
   "id": "initial_id",
   "metadata": {
    "collapsed": true,
    "is_executing": true
   },
   "outputs": [],
   "source": [
    "\n",
    "# Get the data\n",
    "import pandas as pd\n",
    "from sklearn import linear_model\n",
    "from matplotlib import pyplot as plt\n",
    "from sklearn.model_selection import train_test_split\n",
    "# ---------------------\n",
    "LEADTIME = 48\n",
    "x_names = [\n",
    "\"NCI\",\"NCT\",\"VMAX0\",\"DSDV\",\"LGDV\",\"HWDV\",\"AVDV\",\"VMXC\",\"DV12\",\"SLAT\",\n",
    "\"SSTN\",\"SHDC\",\"DTL\",\"LONC\",\"LATC\",\"EMDX\",\"EMDY\",\"HWDX\",\"HWDY\",\"EGDX\",\n",
    "\"EGDY\",\"AVDX\",\"AVDY\",]\n",
    "# ---------------------\n",
    "datafile_path = \"hurricane_02-Jun-2022.dat\"\n",
    "df = pd.read_table(datafile_path, sep=\"\\s+\")\n",
    "print(df.head())\n",
    "df = df[df[\"ftime(hr)\"] == LEADTIME].reset_index(drop=True)\n",
    "y = df[\"VMXC\"] + df[\"OBDV\"]\n",
    "X = df[x_names]\n",
    "# split into data to use during fitting and data to test\n",
    "n_fit = int(0.80 * len(y))\n",
    "X_fit = X[:n_fit]\n",
    "y_fit = y[:n_fit]\n",
    "X_test = X[n_fit:]\n",
    "y_test = y[n_fit:]\n",
    "print(f\"{len(y_fit) = }, {len(y_test) = }\")\n",
    "# Example of working with sklearn.linear_model.LinearRegression()\n",
    "# Ordinary Least Squares\n",
    "lin_reg = linear_model.LinearRegression()\n",
    "lin_reg.fit(X_fit, y_fit)\n",
    "# Print stats\n",
    "print(lin_reg.coef_)\n",
    "print(lin_reg.score(X_test, y_test))\n",
    "# PLOTS\n",
    "plt.figure(figsize=(8,4))\n",
    "# Plot predictions vs truth\n",
    "plt.subplot(1,2,1)\n",
    "plt.plot(y_test, lin_reg.predict(X_test), \".k\")\n",
    "plt.title(f\"lin_reg: R2={lin_reg.score(X_test,y_test).round(4)}\")\n",
    "plt.xlabel(\"y_true (knots)\")\n",
    "plt.ylabel(\"y_predicted (knots)\")\n",
    "plt.ylim(0, 140)\n",
    "plt.xlim(0, 140)\n",
    "# Plot coefficients\n",
    "plt.subplot(1,2,2)\n",
    "plt.plot(lin_reg.coef_)\n",
    "plt.axhline(y=0, linewidth=0.5, color=\"k\")\n",
    "plt.xticks(range(len(x_names)), x_names, rotation=45, fontsize=6)\n",
    "\n",
    "plt.ylim(-1.5, 1.5)\n",
    "plt.title(f\"lin_reg: R2={lin_reg.score(X_test,y_test).round(4)}\")\n",
    "plt.xlabel(\"predictor\")\n",
    "plt.ylabel(\"coefficient\")\n",
    "plt.tight_layout()\n",
    "plt.show()"
   ]
  },
  {
   "cell_type": "code",
   "outputs": [],
   "source": [
    "alpha = np.geomspace(1, 1e8, 9)\n",
    "# add a number at as the firs element of the array\n",
    "alpha = np.insert(alpha, 0, 0)\n",
    "alpha"
   ],
   "metadata": {
    "collapsed": false,
    "is_executing": true
   },
   "id": "73cc422579392201",
   "execution_count": null
  },
  {
   "cell_type": "markdown",
   "source": [
    "# Source : https://github.com/masoud-akbarzadeh/course_objective_analysis/blob/main/code/regularization_techniques_l1_l2.ipynb"
   ],
   "metadata": {
    "collapsed": false
   },
   "id": "870ae4cde897e28d"
  },
  {
   "cell_type": "code",
   "outputs": [],
   "source": [
    "#--------------------------------------\n",
    "# Regression Fitting\n",
    "for a in alpha:\n",
    "    regOLS = linear_model.LinearRegression(fit_intercept=True)\n",
    "    regL1 = linear_model.Lasso(alpha=a, fit_intercept=True, max_iter=10000)\n",
    "    regL2 = linear_model.Ridge(alpha=a, fit_intercept=True, max_iter=10000)\n",
    "    \n",
    "    regOLS.fit(X_fit,y_fit)\n",
    "    regL1.fit(X_fit,y_fit)\n",
    "    regL2.fit(X_fit,y_fit)\n",
    "    \n",
    "    predictOLS = regOLS.predict(X_test)\n",
    "    predictL1 = regL1.predict(X_test)\n",
    "    predictL2 = regL2.predict(X_test)\n",
    "    \n",
    "    MS = 4\n",
    "\n",
    "    plt.figure(figsize=(7,3))\n",
    "    plt.plot(regOLS.coef_,'.-', markersize=9, label='OLS')\n",
    "    plt.plot(regL1.coef_,'.--', markersize=15, label='L1 (LASSO)')\n",
    "    plt.plot(regL2.coef_,'.--', markersize=9, label='L2 (Ridge)')\n",
    "    plt.xticks(range(len(x_names)), x_names, rotation=45, fontsize=6)\n",
    "    plt.xlabel('predictor')\n",
    "    plt.ylabel('regression coefficient')\n",
    "    plt.axhline(y=0,color='gray', linewidth=1)\n",
    "    plt.legend()\n",
    "    plt.xlim(-.5,4.5)\n",
    "    plt.ylim(-.45,1.05)\n",
    "    plt.title('predicting ' + names[0])\n",
    "    plt.show()\n",
    "    \n",
    "    plt.figure(figsize=(7/1.5,4/1.5))\n",
    "    plt.title('predicted vs actual value...')\n",
    "    plt.plot(y_test,predictOLS, '.', markersize=MS, label='OLS')\n",
    "    plt.plot(y_test,predictL1, '.', markersize=MS, label='L1')\n",
    "    # plt.plot(y_test,predictL2, '.', markersize=MS, label='L2')\n",
    "    plt.plot((-3,3),(-3,3),'-k')\n",
    "    plt.ylabel('predicted value')\n",
    "    plt.xlabel('actual value')\n",
    "    plt.legend()\n",
    "    plt.show()\n",
    "    \n",
    "    plt.xticks(range(len(x_names)), x_names, rotation=45, fontsize=6)\n",
    "\n",
    "    plt.ylim(-1.5, 1.5)\n",
    "    plt.title(f\"lin_reg: R2={lin_reg.score(X_test,y_test).round(4)}\")\n",
    "    plt.xlabel(\"predictor\")\n",
    "    plt.ylabel(\"coefficient\")\n",
    "    plt.tight_layout()\n",
    "    plt.show()\n",
    "    "
   ],
   "metadata": {
    "collapsed": false,
    "is_executing": true
   },
   "id": "b53381fd7d5795a",
   "execution_count": null
  },
  {
   "cell_type": "code",
   "outputs": [],
   "source": [
    "# r, p = stats.pearsonr(Xs[:, 0], Ys[:, 0])\n",
    "# cc=    stats.correlate(Xs[:, 0], Xs[:, 0], 'same'))"
   ],
   "metadata": {
    "collapsed": false,
    "is_executing": true
   },
   "id": "2011515274ad4e3d"
  }
 ],
 "metadata": {
  "kernelspec": {
   "display_name": "Python 3",
   "language": "python",
   "name": "python3"
  },
  "language_info": {
   "codemirror_mode": {
    "name": "ipython",
    "version": 2
   },
   "file_extension": ".py",
   "mimetype": "text/x-python",
   "name": "python",
   "nbconvert_exporter": "python",
   "pygments_lexer": "ipython2",
   "version": "2.7.6"
  }
 },
 "nbformat": 4,
 "nbformat_minor": 5
}
